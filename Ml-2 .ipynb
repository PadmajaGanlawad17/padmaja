{
 "cells": [
  {
   "cell_type": "code",
   "execution_count": 27,
   "id": "d26d559b-2edb-4a1b-bc6e-7136000f97d0",
   "metadata": {},
   "outputs": [
    {
     "name": "stdout",
     "output_type": "stream",
     "text": [
      "even\n"
     ]
    }
   ],
   "source": [
    "num = 8\n",
    "if num %2 == 0:\n",
    "    print(\"even\")\n",
    "else:\n",
    "    print(\"odd\")"
   ]
  },
  {
   "cell_type": "code",
   "execution_count": 21,
   "id": "9384d11b-3673-4f3e-98dc-6f6838fbfaf6",
   "metadata": {},
   "outputs": [
    {
     "name": "stdout",
     "output_type": "stream",
     "text": [
      "even\n"
     ]
    }
   ],
   "source": [
    " print (\"even\") if num %2 == 0 else print(\"odd\") "
   ]
  },
  {
   "cell_type": "code",
   "execution_count": 25,
   "id": "6ddcc2a9-b22f-48c9-a6ce-dcf4d91811fd",
   "metadata": {},
   "outputs": [
    {
     "name": "stdout",
     "output_type": "stream",
     "text": [
      "odd\n"
     ]
    }
   ],
   "source": [
    " print (\"odd\") if num %2 == 0 else print(\"even \") "
   ]
  },
  {
   "cell_type": "code",
   "execution_count": 33,
   "id": "4385d736-e917-40ff-9866-96572c531464",
   "metadata": {},
   "outputs": [
    {
     "name": "stdout",
     "output_type": "stream",
     "text": [
      "Positive\n"
     ]
    }
   ],
   "source": [
    "num = 3\n",
    "result = \"Positive\" if num > 0 else (\"Negative\" if num < 0 else \"Zero\")\n",
    "print(result)"
   ]
  },
  {
   "cell_type": "code",
   "execution_count": 35,
   "id": "25658144-9f87-4212-9424-0f020194c9f0",
   "metadata": {},
   "outputs": [
    {
     "data": {
      "text/plain": [
       "[2, 10, 56]"
      ]
     },
     "execution_count": 35,
     "metadata": {},
     "output_type": "execute_result"
    }
   ],
   "source": [
    "L = [1,9,2,10,56,89]\n",
    "[x for x in L if x%2 == 0]"
   ]
  },
  {
   "cell_type": "code",
   "execution_count": 37,
   "id": "0f87b163-2523-470b-806a-c490d741d0f1",
   "metadata": {},
   "outputs": [
    {
     "data": {
      "text/plain": [
       "[1, 9, 89]"
      ]
     },
     "execution_count": 37,
     "metadata": {},
     "output_type": "execute_result"
    }
   ],
   "source": [
    "L = [1,9,2,10,56,89]\n",
    "[x for x in L if x%2 != 0]"
   ]
  },
  {
   "cell_type": "code",
   "execution_count": 39,
   "id": "3ee853b7-6af6-4c95-b074-53c10086960a",
   "metadata": {},
   "outputs": [
    {
     "data": {
      "text/plain": [
       "{'Ram': [70, 71, 98, 100], 'john': [56, 67, 84, 21]}"
      ]
     },
     "execution_count": 39,
     "metadata": {},
     "output_type": "execute_result"
    }
   ],
   "source": [
    "d1={\"Ram\":[70,71,98,100], 'john':[56,67,84,21]}\n",
    "d1"
   ]
  },
  {
   "cell_type": "code",
   "execution_count": 41,
   "id": "1d4770e3-1c47-4aa0-b274-26464f821ab0",
   "metadata": {},
   "outputs": [
    {
     "data": {
      "text/plain": [
       "{'Ram': 84.75, 'john': 57.0}"
      ]
     },
     "execution_count": 41,
     "metadata": {},
     "output_type": "execute_result"
    }
   ],
   "source": [
    "{k:sum(v)/len(v) for k,v in d1.items()}"
   ]
  },
  {
   "cell_type": "code",
   "execution_count": null,
   "id": "a843cdea-291e-4a0c-b689-dcac483e4fb0",
   "metadata": {},
   "outputs": [],
   "source": []
  }
 ],
 "metadata": {
  "kernelspec": {
   "display_name": "Python [conda env:base] *",
   "language": "python",
   "name": "conda-base-py"
  },
  "language_info": {
   "codemirror_mode": {
    "name": "ipython",
    "version": 3
   },
   "file_extension": ".py",
   "mimetype": "text/x-python",
   "name": "python",
   "nbconvert_exporter": "python",
   "pygments_lexer": "ipython3",
   "version": "3.12.7"
  }
 },
 "nbformat": 4,
 "nbformat_minor": 5
}
