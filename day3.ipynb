{
 "cells": [
  {
   "cell_type": "code",
   "execution_count": 3,
   "id": "e4071b7e-007d-4fff-abe3-d9f9d1a9dea5",
   "metadata": {},
   "outputs": [],
   "source": [
    "import Untitled6"
   ]
  },
  {
   "cell_type": "code",
   "execution_count": 5,
   "id": "024eb52a-1bbf-445d-bdc2-62e552e7e90b",
   "metadata": {},
   "outputs": [
    {
     "data": {
      "text/plain": [
       "3.5"
      ]
     },
     "execution_count": 5,
     "metadata": {},
     "output_type": "execute_result"
    }
   ],
   "source": [
    "Untitled6.mean_value(2,3,4,5)"
   ]
  },
  {
   "cell_type": "code",
   "execution_count": 9,
   "id": "ba2ac2b9-7a3a-492e-b4f4-e55bc70f0e98",
   "metadata": {},
   "outputs": [
    {
     "data": {
      "text/plain": [
       "720"
      ]
     },
     "execution_count": 9,
     "metadata": {},
     "output_type": "execute_result"
    }
   ],
   "source": [
    "Untitled6.product(2,3,4,5,6)"
   ]
  },
  {
   "cell_type": "code",
   "execution_count": null,
   "id": "7d3419d1-24cc-41a6-8c59-4e5c14434e56",
   "metadata": {},
   "outputs": [],
   "source": []
  }
 ],
 "metadata": {
  "kernelspec": {
   "display_name": "Python [conda env:base] *",
   "language": "python",
   "name": "conda-base-py"
  },
  "language_info": {
   "codemirror_mode": {
    "name": "ipython",
    "version": 3
   },
   "file_extension": ".py",
   "mimetype": "text/x-python",
   "name": "python",
   "nbconvert_exporter": "python",
   "pygments_lexer": "ipython3",
   "version": "3.12.7"
  }
 },
 "nbformat": 4,
 "nbformat_minor": 5
}
