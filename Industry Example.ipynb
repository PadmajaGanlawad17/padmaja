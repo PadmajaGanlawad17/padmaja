{
 "cells": [
  {
   "cell_type": "code",
   "execution_count": null,
   "id": "6bdd2981-78e0-4839-9fa2-493a4ce7a2d8",
   "metadata": {},
   "outputs": [],
   "source": [
    "1. Read a long text in to string that contains some punctuation marks also.\n",
    "2. Convert to lower case.\n",
    "3. Remove Punctuation marks.\n",
    "4. Split it in to words using split() function.\n",
    "5. Make a dictionary with each unique word as the key and its value being the number\n",
    "Convert the dict to dataframe and print it."
   ]
  },
  {
   "cell_type": "code",
   "execution_count": 5,
   "id": "9fe16fa6-5889-479e-9c6e-f98a41370500",
   "metadata": {},
   "outputs": [
    {
     "name": "stdout",
     "output_type": "stream",
     "text": [
      " Read a long text in to string that contains some punctuation marks also.It is used to demonstrate\n",
      "Convert to lower case. Remove Punctuation marks.\n"
     ]
    }
   ],
   "source": [
    "import pandas as pd\n",
    "import string\n",
    "text = \"\"\" Read a long text in to string that contains some punctuation marks also.It is used to demonstrate\n",
    "Convert to lower case. Remove Punctuation marks.\"\"\"\n",
    "print(text)"
   ]
  },
  {
   "cell_type": "code",
   "execution_count": 7,
   "id": "139631fc-8ba0-4c34-907d-6a7762e1328d",
   "metadata": {},
   "outputs": [
    {
     "data": {
      "text/plain": [
       "' read a long text in to string that contains some punctuation marks also.it is used to demonstrate\\nconvert to lower case. remove punctuation marks.'"
      ]
     },
     "execution_count": 7,
     "metadata": {},
     "output_type": "execute_result"
    }
   ],
   "source": [
    "text = text.lower()\n",
    "text"
   ]
  },
  {
   "cell_type": "code",
   "execution_count": 13,
   "id": "0b692381-cc24-4793-bc66-d33d3f061251",
   "metadata": {},
   "outputs": [
    {
     "data": {
      "text/plain": [
       "' read a long text in to string that contains some punctuation marks alsoit is used to demonstrate\\nconvert to lower case remove punctuation marks'"
      ]
     },
     "execution_count": 13,
     "metadata": {},
     "output_type": "execute_result"
    }
   ],
   "source": [
    "text = text.translate(str.maketrans(\"\",\"\", string.punctuation))\n",
    "text"
   ]
  },
  {
   "cell_type": "code",
   "execution_count": 24,
   "id": "ba180ec6-b7fe-45d3-b2a6-cfa6280f7611",
   "metadata": {},
   "outputs": [
    {
     "data": {
      "text/plain": [
       "['Hello,', '\"How', 'are', 'you\"']"
      ]
     },
     "execution_count": 24,
     "metadata": {},
     "output_type": "execute_result"
    }
   ],
   "source": [
    "wor"
   ]
  },
  {
   "cell_type": "code",
   "execution_count": 26,
   "id": "ec075cc1-e026-4ff0-9b49-4d685bc463e2",
   "metadata": {},
   "outputs": [
    {
     "name": "stdout",
     "output_type": "stream",
     "text": [
      "Hello, \"How are you\"\n"
     ]
    }
   ],
   "source": [
    "punc_marks = [' \" ',',','?']\n",
    "text = 'Hello, \"How are you\"'\n",
    "print(text)"
   ]
  },
  {
   "cell_type": "code",
   "execution_count": null,
   "id": "7d375bbc-1aea-4caf-94f7-39f0c6ad5ac2",
   "metadata": {},
   "outputs": [],
   "source": [
    "words = text.split()\n",
    "words"
   ]
  },
  {
   "cell_type": "code",
   "execution_count": null,
   "id": "b627b602-f17b-48cf-b250-d18842324e13",
   "metadata": {},
   "outputs": [],
   "source": []
  }
 ],
 "metadata": {
  "kernelspec": {
   "display_name": "Python [conda env:base] *",
   "language": "python",
   "name": "conda-base-py"
  },
  "language_info": {
   "codemirror_mode": {
    "name": "ipython",
    "version": 3
   },
   "file_extension": ".py",
   "mimetype": "text/x-python",
   "name": "python",
   "nbconvert_exporter": "python",
   "pygments_lexer": "ipython3",
   "version": "3.12.7"
  }
 },
 "nbformat": 4,
 "nbformat_minor": 5
}
