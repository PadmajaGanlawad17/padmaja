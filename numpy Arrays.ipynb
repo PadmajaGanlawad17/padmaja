{
 "cells": [
  {
   "cell_type": "code",
   "execution_count": 7,
   "id": "a93e0ded-cc74-41f5-af7c-83bb99768109",
   "metadata": {},
   "outputs": [
    {
     "name": "stdout",
     "output_type": "stream",
     "text": [
      "['A' '67' '57' '9.8']\n",
      "<class 'numpy.ndarray'>\n",
      "<U32\n"
     ]
    }
   ],
   "source": [
    "#Numpy Arrays\n",
    "import numpy as np\n",
    "x = np.array([\"A\",67,57,9.8])\n",
    "print(x)\n",
    "print(type(x))\n",
    "print(x.dtype)"
   ]
  },
  {
   "cell_type": "code",
   "execution_count": 9,
   "id": "bed04710-3142-4ead-8783-002f330c5660",
   "metadata": {},
   "outputs": [
    {
     "name": "stdout",
     "output_type": "stream",
     "text": [
      "[10 20 30 40]\n",
      "<class 'numpy.ndarray'>\n"
     ]
    }
   ],
   "source": [
    "a = np.array([10,20,30,40])\n",
    "print(a)\n",
    "print(type(a))"
   ]
  },
  {
   "cell_type": "code",
   "execution_count": 11,
   "id": "0140d588-0c92-4a4a-bebf-ea66b018140d",
   "metadata": {},
   "outputs": [
    {
     "name": "stdout",
     "output_type": "stream",
     "text": [
      "[[10 20]\n",
      " [30 40]]\n",
      "(2, 2)\n"
     ]
    }
   ],
   "source": [
    "#Reshaping an array\n",
    "a = np.array([10,20,30,40])\n",
    "b = a.reshape(2,2)\n",
    "print(b)\n",
    "print(b.shape)"
   ]
  },
  {
   "cell_type": "code",
   "execution_count": 15,
   "id": "ec51b0f4-278d-42cb-a031-67c7eae2c477",
   "metadata": {},
   "outputs": [
    {
     "name": "stdout",
     "output_type": "stream",
     "text": [
      "[ 3  4  5  6  7  8  9 10 11 12 13 14 15 16 17 18 19]\n"
     ]
    },
    {
     "data": {
      "text/plain": [
       "numpy.ndarray"
      ]
     },
     "execution_count": 15,
     "metadata": {},
     "output_type": "execute_result"
    }
   ],
   "source": [
    "#Create an array with arange()\n",
    "c = np.arange(3,20)\n",
    "print(c)\n",
    "type(c)"
   ]
  },
  {
   "cell_type": "code",
   "execution_count": 17,
   "id": "d7330e6d-c2e1-4313-9355-3977c38bb3b4",
   "metadata": {},
   "outputs": [
    {
     "data": {
      "text/plain": [
       "array([1.35, 3.11, 4.91])"
      ]
     },
     "execution_count": 17,
     "metadata": {},
     "output_type": "execute_result"
    }
   ],
   "source": [
    "d = np.array([1.3467, 3.10987, 4.91236])\n",
    "np.around(d,2)"
   ]
  },
  {
   "cell_type": "code",
   "execution_count": 19,
   "id": "171e3dab-be11-41ee-bbf1-fa457c7fd872",
   "metadata": {},
   "outputs": [
    {
     "name": "stdout",
     "output_type": "stream",
     "text": [
      "[1.16047404 1.76348235 2.21638444]\n"
     ]
    }
   ],
   "source": [
    "print(np.sqrt(d))"
   ]
  },
  {
   "cell_type": "code",
   "execution_count": 21,
   "id": "1fc04ac7-fc4e-4443-99f5-8f5ed0c43456",
   "metadata": {},
   "outputs": [
    {
     "name": "stdout",
     "output_type": "stream",
     "text": [
      "[1.16 1.76 2.22]\n"
     ]
    }
   ],
   "source": [
    "print(np.around(np.sqrt(d),2))"
   ]
  },
  {
   "cell_type": "code",
   "execution_count": 23,
   "id": "9aac2d63-1b63-41f2-ac37-b73a9ee5673e",
   "metadata": {},
   "outputs": [
    {
     "data": {
      "text/plain": [
       "dtype('float64')"
      ]
     },
     "execution_count": 23,
     "metadata": {},
     "output_type": "execute_result"
    }
   ],
   "source": [
    "#2D Array\n",
    "a1 = np.array([[3,4,5,8],[7,2,8, np.NAN]])\n",
    "a1_copy1 = a1.astype(float)\n",
    "a1_copy1.dtype"
   ]
  },
  {
   "cell_type": "code",
   "execution_count": 27,
   "id": "0b1b5bd9-d9bf-4f93-b88c-d18253e67448",
   "metadata": {},
   "outputs": [
    {
     "name": "stdout",
     "output_type": "stream",
     "text": [
      "[[ 3.  4.  5.  8.]\n",
      " [ 7.  2.  8. nan]]\n"
     ]
    },
    {
     "data": {
      "text/plain": [
       "dtype('float64')"
      ]
     },
     "execution_count": 27,
     "metadata": {},
     "output_type": "execute_result"
    }
   ],
   "source": [
    "a1 = np.array([[3,4,5,8],[7,2,8, np.NAN]])\n",
    "print(a1)\n",
    "a1.dtype"
   ]
  },
  {
   "cell_type": "code",
   "execution_count": 29,
   "id": "b420d29a-b466-4144-b867-0b20e4f8778a",
   "metadata": {},
   "outputs": [
    {
     "data": {
      "text/plain": [
       "array([['3.0', '4.0', '5.0', '8.0'],\n",
       "       ['7.0', '2.0', '8.0', 'nan']], dtype='<U32')"
      ]
     },
     "execution_count": 29,
     "metadata": {},
     "output_type": "execute_result"
    }
   ],
   "source": [
    "a1_copy1 = a1.astype(str)\n",
    "a1_copy1"
   ]
  },
  {
   "cell_type": "code",
   "execution_count": 31,
   "id": "e2fd14e9-4ddd-4a32-a4cb-0e1578ce1b8a",
   "metadata": {},
   "outputs": [
    {
     "name": "stdout",
     "output_type": "stream",
     "text": [
      "[['3.0' '4.0' '5.0' '8.0']\n",
      " ['7.0' '2.0' '8.0' 'nan']]\n"
     ]
    },
    {
     "data": {
      "text/plain": [
       "dtype('<U32')"
      ]
     },
     "execution_count": 31,
     "metadata": {},
     "output_type": "execute_result"
    }
   ],
   "source": [
    "a1_copy1 = a1.astype(str)\n",
    "print(a1_copy1)\n",
    "a1_copy1.dtype"
   ]
  },
  {
   "cell_type": "code",
   "execution_count": 33,
   "id": "02154219-b535-4314-bafb-6d9b8f198d24",
   "metadata": {},
   "outputs": [
    {
     "data": {
      "text/plain": [
       "array([[ 3,  4,  6],\n",
       "       [ 7,  8,  9],\n",
       "       [ 4,  6, 10]])"
      ]
     },
     "execution_count": 33,
     "metadata": {},
     "output_type": "execute_result"
    }
   ],
   "source": [
    "a2 = np.array([[3,4,6],[7,8,9],[4,6,10]])\n",
    "a2"
   ]
  },
  {
   "cell_type": "code",
   "execution_count": 39,
   "id": "4190bd49-9d68-418c-802f-c6621de8f381",
   "metadata": {},
   "outputs": [
    {
     "name": "stdout",
     "output_type": "stream",
     "text": [
      "[14 18 25]\n",
      "[13 24 20]\n"
     ]
    }
   ],
   "source": [
    "print(a2.sum(axis = 0))\n",
    "print(a2.sum(axis = 1))"
   ]
  },
  {
   "cell_type": "code",
   "execution_count": 43,
   "id": "b95fa5c5-6133-439b-a147-32f452c613c4",
   "metadata": {},
   "outputs": [
    {
     "name": "stdout",
     "output_type": "stream",
     "text": [
      "[[ 3  4  6]\n",
      " [ 7  8  9]\n",
      " [ 4  6 10]]\n",
      "[4.66666667 6.         8.33333333]\n",
      "[4.33333333 8.         6.66666667]\n"
     ]
    }
   ],
   "source": [
    "print(a2)\n",
    "print(np.mean(a2, axis = 0))\n",
    "print(np.mean(a2, axis = 1))"
   ]
  },
  {
   "cell_type": "code",
   "execution_count": 47,
   "id": "6f682f2e-38ff-4668-bbe9-e597abe02737",
   "metadata": {},
   "outputs": [
    {
     "name": "stdout",
     "output_type": "stream",
     "text": [
      "[[3 4 5]\n",
      " [7 2 8]\n",
      " [9 1 6]]\n",
      "[[0 4 5]\n",
      " [7 0 8]\n",
      " [9 1 0]]\n"
     ]
    }
   ],
   "source": [
    "#Matrix Operations\n",
    "a3 = np.array([[3,4,5],[7,2,8],[9,1,6]])\n",
    "print(a3)\n",
    "np.fill_diagonal(a3,0)\n",
    "print(a3)"
   ]
  },
  {
   "cell_type": "code",
   "execution_count": 53,
   "id": "0eb4d458-1a63-4f43-b9b6-4f19845925c5",
   "metadata": {},
   "outputs": [],
   "source": [
    "A = np.array([[1,2], [3,4]])\n",
    "B = np.array([[5,6], [7,8]])\n"
   ]
  },
  {
   "cell_type": "code",
   "execution_count": 59,
   "id": "2d11f448-31d4-4f79-ae66-4beda04f0e2d",
   "metadata": {},
   "outputs": [
    {
     "name": "stdout",
     "output_type": "stream",
     "text": [
      "[[19 22]\n",
      " [43 50]]\n"
     ]
    }
   ],
   "source": [
    "C = np.matmul(A, B)\n",
    "print(C)"
   ]
  },
  {
   "cell_type": "code",
   "execution_count": 57,
   "id": "c5a42f0a-1fbf-4923-bbcd-d7a207928d9f",
   "metadata": {},
   "outputs": [
    {
     "name": "stdout",
     "output_type": "stream",
     "text": [
      "[[1 3]\n",
      " [2 4]]\n",
      "[[5 7]\n",
      " [6 8]]\n"
     ]
    }
   ],
   "source": [
    "print(A. T)\n",
    "print(B. T)"
   ]
  },
  {
   "cell_type": "code",
   "execution_count": 61,
   "id": "a1c9fd7e-798d-494d-ace3-fad96572290b",
   "metadata": {},
   "outputs": [
    {
     "data": {
      "text/plain": [
       "array([[ 3,  4,  5],\n",
       "       [ 7,  2,  8],\n",
       "       [ 9,  2,  1],\n",
       "       [10,  9, 18]])"
      ]
     },
     "execution_count": 61,
     "metadata": {},
     "output_type": "execute_result"
    }
   ],
   "source": [
    "a4 = np.array([[3,4,5],[7,2,8],[9,2,1],[10,9,18]])\n",
    "a4"
   ]
  },
  {
   "cell_type": "code",
   "execution_count": 63,
   "id": "6e3dcb09-9808-4f0b-84f9-2455d77e72c4",
   "metadata": {},
   "outputs": [
    {
     "data": {
      "text/plain": [
       "array([[ 3,  5],\n",
       "       [10, 18]])"
      ]
     },
     "execution_count": 63,
     "metadata": {},
     "output_type": "execute_result"
    }
   ],
   "source": [
    "a4[0::3,0::2]"
   ]
  },
  {
   "cell_type": "code",
   "execution_count": 69,
   "id": "99b81ae6-c443-442c-bb25-908fda7dc0b6",
   "metadata": {},
   "outputs": [
    {
     "data": {
      "text/plain": [
       "array([[7, 2, 8],\n",
       "       [9, 2, 1]])"
      ]
     },
     "execution_count": 69,
     "metadata": {},
     "output_type": "execute_result"
    }
   ],
   "source": [
    "#Slicing of array\n",
    "a4[1:3]"
   ]
  },
  {
   "cell_type": "code",
   "execution_count": null,
   "id": "cf55c345-191d-4a5c-8369-8cc050bc8c8d",
   "metadata": {},
   "outputs": [],
   "source": []
  }
 ],
 "metadata": {
  "kernelspec": {
   "display_name": "Python [conda env:base] *",
   "language": "python",
   "name": "conda-base-py"
  },
  "language_info": {
   "codemirror_mode": {
    "name": "ipython",
    "version": 3
   },
   "file_extension": ".py",
   "mimetype": "text/x-python",
   "name": "python",
   "nbconvert_exporter": "python",
   "pygments_lexer": "ipython3",
   "version": "3.12.7"
  }
 },
 "nbformat": 4,
 "nbformat_minor": 5
}
