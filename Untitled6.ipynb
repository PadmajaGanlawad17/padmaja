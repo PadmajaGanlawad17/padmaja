{
 "cells": [
  {
   "cell_type": "code",
   "execution_count": null,
   "id": "9f4cf0f8-aa09-4271-b1ed-51f0d43d6877",
   "metadata": {},
   "outputs": [],
   "source": [
    "def mean_value(*n):\n",
    "    sum = 0\n",
    "    counter = 0\n",
    "    for x in n:\n",
    "        counter = counter +1\n",
    "        sum += x\n",
    "    mean = sum/counter\n",
    "    return(mean)"
   ]
  },
  {
   "cell_type": "code",
   "execution_count": null,
   "id": "1b38be6d-db4e-4183-9630-752e61cb34ed",
   "metadata": {},
   "outputs": [],
   "source": [
    "def product(*n):\n",
    "    result = 1\n",
    "    for i in range(len(n)):\n",
    "        result *= n[i]\n",
    "    return result"
   ]
  }
 ],
 "metadata": {
  "kernelspec": {
   "display_name": "Python [conda env:base] *",
   "language": "python",
   "name": "conda-base-py"
  },
  "language_info": {
   "codemirror_mode": {
    "name": "ipython",
    "version": 3
   },
   "file_extension": ".py",
   "mimetype": "text/x-python",
   "name": "python",
   "nbconvert_exporter": "python",
   "pygments_lexer": "ipython3",
   "version": "3.12.7"
  }
 },
 "nbformat": 4,
 "nbformat_minor": 5
}
